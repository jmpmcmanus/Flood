{
 "cells": [
  {
   "cell_type": "code",
   "execution_count": 2,
   "metadata": {},
   "outputs": [],
   "source": [
    "# install geopandas: conda install -c conda-forge geopandas\n",
    "import geopandas as gpd\n",
    "import matplotlib.pyplot as plt\n",
    "import pandas as pd\n",
    "import re"
   ]
  },
  {
   "cell_type": "code",
   "execution_count": 40,
   "metadata": {},
   "outputs": [],
   "source": [
    "fp='NorthCarolinaVulnerability/NORTHCAROLINA.shp'"
   ]
  },
  {
   "cell_type": "code",
   "execution_count": 41,
   "metadata": {},
   "outputs": [],
   "source": [
    "ncdata=gpd.read_file(fp)"
   ]
  },
  {
   "cell_type": "markdown",
   "metadata": {},
   "source": [
    "Looking for certain counties"
   ]
  },
  {
   "cell_type": "code",
   "execution_count": 42,
   "metadata": {},
   "outputs": [
    {
     "name": "stdout",
     "output_type": "stream",
     "text": [
      "['Alamance', 'Alexander', 'Alleghany', 'Anson', 'Ashe', 'Avery', 'Beaufort', 'Bertie', 'Bladen', 'Brunswick', 'Buncombe', 'Burke', 'Cabarrus', 'Caldwell', 'Camden', 'Carteret', 'Caswell', 'Catawba', 'Chatham', 'Cherokee', 'Chowan', 'Clay', 'Cleveland', 'Columbus', 'Craven', 'Cumberland', 'Currituck', 'Dare', 'Davidson', 'Davie', 'Duplin', 'Durham', 'Edgecombe', 'Forsyth', 'Franklin', 'Gaston', 'Gates', 'Graham', 'Granville', 'Greene', 'Guilford', 'Halifax', 'Harnett', 'Haywood', 'Henderson', 'Hertford', 'Hoke', 'Hyde', 'Iredell', 'Jackson', 'Johnston', 'Jones', 'Lee', 'Lenoir', 'Lincoln', 'Macon', 'Madison', 'Martin', 'McDowell', 'Mecklenburg', 'Mitchell', 'Montgomery', 'Moore', 'Nash', 'New Hanover', 'Northampton', 'Onslow', 'Orange', 'Pamlico', 'Pasquotank', 'Pender', 'Perquimans', 'Person', 'Pitt', 'Polk', 'Randolph', 'Richmond', 'Robeson', 'Rockingham', 'Rowan', 'Rutherford', 'Sampson', 'Scotland', 'Stanly', 'Stokes', 'Surry', 'Swain', 'Transylvania', 'Tyrrell', 'Union', 'Vance', 'Wake', 'Warren', 'Washington', 'Watauga', 'Wayne', 'Wilkes', 'Wilson', 'Yadkin', 'Yancey']\n"
     ]
    }
   ],
   "source": [
    "ctlist=list(ncdata['COUNTY'].unique())\n",
    "ctlist.sort()\n",
    "print(ctlist)"
   ]
  },
  {
   "cell_type": "code",
   "execution_count": 43,
   "metadata": {},
   "outputs": [],
   "source": [
    "ctdata=ncdata[ctdata['COUNTY']=='Cumberland']"
   ]
  },
  {
   "cell_type": "code",
   "execution_count": 44,
   "metadata": {},
   "outputs": [
    {
     "data": {
      "text/html": [
       "<div>\n",
       "<style scoped>\n",
       "    .dataframe tbody tr th:only-of-type {\n",
       "        vertical-align: middle;\n",
       "    }\n",
       "\n",
       "    .dataframe tbody tr th {\n",
       "        vertical-align: top;\n",
       "    }\n",
       "\n",
       "    .dataframe thead th {\n",
       "        text-align: right;\n",
       "    }\n",
       "</style>\n",
       "<table border=\"1\" class=\"dataframe\">\n",
       "  <thead>\n",
       "    <tr style=\"text-align: right;\">\n",
       "      <th></th>\n",
       "      <th>ST</th>\n",
       "      <th>STATE</th>\n",
       "      <th>ST_ABBR</th>\n",
       "      <th>STCNTY</th>\n",
       "      <th>COUNTY</th>\n",
       "      <th>FIPS</th>\n",
       "      <th>LOCATION</th>\n",
       "      <th>AREA_SQMI</th>\n",
       "      <th>E_TOTPOP</th>\n",
       "      <th>M_TOTPOP</th>\n",
       "      <th>...</th>\n",
       "      <th>F_NOVEH</th>\n",
       "      <th>F_GROUPQ</th>\n",
       "      <th>F_THEME4</th>\n",
       "      <th>F_TOTAL</th>\n",
       "      <th>E_UNINSUR</th>\n",
       "      <th>M_UNINSUR</th>\n",
       "      <th>EP_UNINSUR</th>\n",
       "      <th>MP_UNINSUR</th>\n",
       "      <th>E_DAYPOP</th>\n",
       "      <th>geometry</th>\n",
       "    </tr>\n",
       "  </thead>\n",
       "  <tbody>\n",
       "    <tr>\n",
       "      <th>3</th>\n",
       "      <td>37</td>\n",
       "      <td>NORTH CAROLINA</td>\n",
       "      <td>NC</td>\n",
       "      <td>37051</td>\n",
       "      <td>Cumberland</td>\n",
       "      <td>37051980100</td>\n",
       "      <td>Census Tract 9801, Cumberland County, North Ca...</td>\n",
       "      <td>35.598407</td>\n",
       "      <td>0.0</td>\n",
       "      <td>12.0</td>\n",
       "      <td>...</td>\n",
       "      <td>-999.0</td>\n",
       "      <td>-999.0</td>\n",
       "      <td>-999.0</td>\n",
       "      <td>-999.0</td>\n",
       "      <td>0.0</td>\n",
       "      <td>12.0</td>\n",
       "      <td>-999.0</td>\n",
       "      <td>-999.0</td>\n",
       "      <td>5250.0</td>\n",
       "      <td>POLYGON ((-79.11285299999997 35.12591200000003...</td>\n",
       "    </tr>\n",
       "    <tr>\n",
       "      <th>382</th>\n",
       "      <td>37</td>\n",
       "      <td>NORTH CAROLINA</td>\n",
       "      <td>NC</td>\n",
       "      <td>37051</td>\n",
       "      <td>Cumberland</td>\n",
       "      <td>37051000200</td>\n",
       "      <td>Census Tract 2, Cumberland County, North Carolina</td>\n",
       "      <td>2.614907</td>\n",
       "      <td>2148.0</td>\n",
       "      <td>213.0</td>\n",
       "      <td>...</td>\n",
       "      <td>1.0</td>\n",
       "      <td>0.0</td>\n",
       "      <td>1.0</td>\n",
       "      <td>7.0</td>\n",
       "      <td>326.0</td>\n",
       "      <td>101.0</td>\n",
       "      <td>15.2</td>\n",
       "      <td>4.6</td>\n",
       "      <td>3723.0</td>\n",
       "      <td>POLYGON ((-78.89540299999999 35.02078500000005...</td>\n",
       "    </tr>\n",
       "    <tr>\n",
       "      <th>383</th>\n",
       "      <td>37</td>\n",
       "      <td>NORTH CAROLINA</td>\n",
       "      <td>NC</td>\n",
       "      <td>37051</td>\n",
       "      <td>Cumberland</td>\n",
       "      <td>37051000500</td>\n",
       "      <td>Census Tract 5, Cumberland County, North Carolina</td>\n",
       "      <td>1.698971</td>\n",
       "      <td>2231.0</td>\n",
       "      <td>200.0</td>\n",
       "      <td>...</td>\n",
       "      <td>1.0</td>\n",
       "      <td>0.0</td>\n",
       "      <td>1.0</td>\n",
       "      <td>5.0</td>\n",
       "      <td>354.0</td>\n",
       "      <td>69.0</td>\n",
       "      <td>16.1</td>\n",
       "      <td>2.9</td>\n",
       "      <td>3063.0</td>\n",
       "      <td>POLYGON ((-78.92230799999999 35.01844900000003...</td>\n",
       "    </tr>\n",
       "    <tr>\n",
       "      <th>384</th>\n",
       "      <td>37</td>\n",
       "      <td>NORTH CAROLINA</td>\n",
       "      <td>NC</td>\n",
       "      <td>37051</td>\n",
       "      <td>Cumberland</td>\n",
       "      <td>37051000600</td>\n",
       "      <td>Census Tract 6, Cumberland County, North Carolina</td>\n",
       "      <td>1.958945</td>\n",
       "      <td>5573.0</td>\n",
       "      <td>497.0</td>\n",
       "      <td>...</td>\n",
       "      <td>0.0</td>\n",
       "      <td>0.0</td>\n",
       "      <td>0.0</td>\n",
       "      <td>0.0</td>\n",
       "      <td>666.0</td>\n",
       "      <td>314.0</td>\n",
       "      <td>12.4</td>\n",
       "      <td>5.5</td>\n",
       "      <td>6247.0</td>\n",
       "      <td>POLYGON ((-78.93500899999998 35.04437100000007...</td>\n",
       "    </tr>\n",
       "    <tr>\n",
       "      <th>385</th>\n",
       "      <td>37</td>\n",
       "      <td>NORTH CAROLINA</td>\n",
       "      <td>NC</td>\n",
       "      <td>37051</td>\n",
       "      <td>Cumberland</td>\n",
       "      <td>37051000701</td>\n",
       "      <td>Census Tract 7.01, Cumberland County, North Ca...</td>\n",
       "      <td>2.456289</td>\n",
       "      <td>5539.0</td>\n",
       "      <td>389.0</td>\n",
       "      <td>...</td>\n",
       "      <td>0.0</td>\n",
       "      <td>0.0</td>\n",
       "      <td>0.0</td>\n",
       "      <td>0.0</td>\n",
       "      <td>323.0</td>\n",
       "      <td>128.0</td>\n",
       "      <td>5.9</td>\n",
       "      <td>2.3</td>\n",
       "      <td>7774.0</td>\n",
       "      <td>POLYGON ((-78.95479899999998 35.05937600000004...</td>\n",
       "    </tr>\n",
       "  </tbody>\n",
       "</table>\n",
       "<p>5 rows × 125 columns</p>\n",
       "</div>"
      ],
      "text/plain": [
       "     ST           STATE ST_ABBR STCNTY      COUNTY         FIPS  \\\n",
       "3    37  NORTH CAROLINA      NC  37051  Cumberland  37051980100   \n",
       "382  37  NORTH CAROLINA      NC  37051  Cumberland  37051000200   \n",
       "383  37  NORTH CAROLINA      NC  37051  Cumberland  37051000500   \n",
       "384  37  NORTH CAROLINA      NC  37051  Cumberland  37051000600   \n",
       "385  37  NORTH CAROLINA      NC  37051  Cumberland  37051000701   \n",
       "\n",
       "                                              LOCATION  AREA_SQMI  E_TOTPOP  \\\n",
       "3    Census Tract 9801, Cumberland County, North Ca...  35.598407       0.0   \n",
       "382  Census Tract 2, Cumberland County, North Carolina   2.614907    2148.0   \n",
       "383  Census Tract 5, Cumberland County, North Carolina   1.698971    2231.0   \n",
       "384  Census Tract 6, Cumberland County, North Carolina   1.958945    5573.0   \n",
       "385  Census Tract 7.01, Cumberland County, North Ca...   2.456289    5539.0   \n",
       "\n",
       "     M_TOTPOP                        ...                          F_NOVEH  \\\n",
       "3        12.0                        ...                           -999.0   \n",
       "382     213.0                        ...                              1.0   \n",
       "383     200.0                        ...                              1.0   \n",
       "384     497.0                        ...                              0.0   \n",
       "385     389.0                        ...                              0.0   \n",
       "\n",
       "     F_GROUPQ  F_THEME4  F_TOTAL  E_UNINSUR  M_UNINSUR  EP_UNINSUR  \\\n",
       "3      -999.0    -999.0   -999.0        0.0       12.0      -999.0   \n",
       "382       0.0       1.0      7.0      326.0      101.0        15.2   \n",
       "383       0.0       1.0      5.0      354.0       69.0        16.1   \n",
       "384       0.0       0.0      0.0      666.0      314.0        12.4   \n",
       "385       0.0       0.0      0.0      323.0      128.0         5.9   \n",
       "\n",
       "     MP_UNINSUR  E_DAYPOP                                           geometry  \n",
       "3        -999.0    5250.0  POLYGON ((-79.11285299999997 35.12591200000003...  \n",
       "382         4.6    3723.0  POLYGON ((-78.89540299999999 35.02078500000005...  \n",
       "383         2.9    3063.0  POLYGON ((-78.92230799999999 35.01844900000003...  \n",
       "384         5.5    6247.0  POLYGON ((-78.93500899999998 35.04437100000007...  \n",
       "385         2.3    7774.0  POLYGON ((-78.95479899999998 35.05937600000004...  \n",
       "\n",
       "[5 rows x 125 columns]"
      ]
     },
     "execution_count": 44,
     "metadata": {},
     "output_type": "execute_result"
    }
   ],
   "source": [
    "ctdata.head()"
   ]
  },
  {
   "cell_type": "code",
   "execution_count": 47,
   "metadata": {},
   "outputs": [
    {
     "data": {
      "image/png": "[encoded data removed]",
      "text/plain": [
       "<Figure size 432x288 with 1 Axes>"
      ]
     },
     "metadata": {
      "needs_background": "light"
     },
     "output_type": "display_data"
    }
   ],
   "source": [
    "#plt.figure(figsize=(8,6))\n",
    "ctdata.plot(column='AREA_SQMI',linewidth=2,edgecolor='2')\n",
    "plt.title('NC Cumberland SQMI',fontsize=20)\n",
    "plt.axis('off')\n",
    "#plt.rcParams[\"figure.figsize\"] = [8,6]\n",
    "#plt.savefig(\"test.png\", bbox_inches='tight')\n",
    "#plt.savefig(r'E:\\Bootcamp_Summer_Project\\NC Rate.png',dpi=100)\n",
    "plt.show()"
   ]
  },
  {
   "cell_type": "code",
   "execution_count": null,
   "metadata": {},
   "outputs": [],
   "source": []
  },
  {
   "cell_type": "code",
   "execution_count": 5,
   "metadata": {},
   "outputs": [],
   "source": [
    "nc_result_county['ct']=nc_result_county['county'].apply(lambda x: re.findall(r'(.+) County',x)[0])\n",
    "or_result_county['ct']=or_result_county['county'].apply(lambda x: re.findall(r'(.+) County',x)[0])\n",
    "ma_result_county['ct']=ma_result_county['county'].apply(lambda x: re.findall(r'(.+) County',x)[0])"
   ]
  },
  {
   "cell_type": "code",
   "execution_count": 6,
   "metadata": {},
   "outputs": [],
   "source": [
    "#NC\t37\tNORTH CAROLINA\n",
    "#OR\t41\tOREGON\n",
    "#MA\t25\tMASSACHUSETTS\n",
    "\n",
    "ncdata=ctdata[ctdata['STATEFP']=='37']\n",
    "ordata=ctdata[ctdata['STATEFP']=='41']\n",
    "madata=ctdata[ctdata['STATEFP']=='25']"
   ]
  },
  {
   "cell_type": "code",
   "execution_count": 7,
   "metadata": {},
   "outputs": [],
   "source": [
    "ncctdata_all=ncdata.merge(nc_result_county[['ct','pop','total','rate']], left_on='NAME',right_on='ct',how='right')\n",
    "orctdata_all=ordata.merge(or_result_county[['ct','pop','total','rate']], left_on='NAME',right_on='ct',how='right')\n",
    "mactdata_all=madata.merge(ma_result_county[['ct','pop','total','rate']], left_on='NAME',right_on='ct',how='right')"
   ]
  },
  {
   "cell_type": "code",
   "execution_count": null,
   "metadata": {},
   "outputs": [],
   "source": [
    "ncctdata_all.plot(column='pop')\n",
    "ncctdata_all.plot(column='total')\n",
    "plt.show()"
   ]
  },
  {
   "cell_type": "code",
   "execution_count": 280,
   "metadata": {},
   "outputs": [
    {
     "data": {
      "image/png": "[encoded data removed]",
      "text/plain": [
       "<matplotlib.figure.Figure at 0xd6707190f0>"
      ]
     },
     "metadata": {},
     "output_type": "display_data"
    }
   ],
   "source": [
    "#plt.figure(figsize=(8,6))\n",
    "ncctdata_all.plot(column='rate',linewidth=2,edgecolor='2')\n",
    "plt.title('NC Prescription Rate per County',fontsize=20)\n",
    "plt.axis('off')\n",
    "#plt.rcParams[\"figure.figsize\"] = [8,6]\n",
    "#plt.savefig(\"test.png\", bbox_inches='tight')\n",
    "#plt.savefig(r'E:\\Bootcamp_Summer_Project\\NC Rate.png',dpi=100)\n",
    "plt.show()"
   ]
  },
  {
   "cell_type": "code",
   "execution_count": null,
   "metadata": {},
   "outputs": [],
   "source": [
    "\n",
    "    #plt.rcParams[\"figure.figsize\"] = [19.2,10.8]\n",
    "    #fig, ax = plt.subplots(1, figsize=(10, 6))\n",
    "    fig, ax = plt.subplots()\n",
    "    ax.set_aspect('equal')\n",
    "    plotdata=ncdata.merge(county_trx[county_trx['Product_Basename']==i],left_on='NAME',right_on='county',how='left')\n",
    "    plotdata.plot(column='ctrate',cmap='viridis',ax=ax,linewidth=2,edgecolor='2')\n",
    "    \n",
    "    plt.title('{0} TRX Per Person'.format(i),fontsize=40,y=1.1)\n",
    "    ax.axis('off')\n",
    "    sm=plt.cm.ScalarMappable(cmap='viridis',norm=plt.Normalize(0,plotdata['ctrate'].max()))\n",
    "    sm._A=[]\n",
    "    fig.colorbar(sm, shrink=0.6)\n",
    "\n",
    "    ax.annotate('Source: Blue6, 2018',xy=(0.1, .08),  xycoords='figure fraction', horizontalalignment='left', verticalalignment='top', fontsize=12, color='#555555')\n",
    "    plt.savefig(r'E:\\Bootcamp_Summer_Project\\NC Rate {0}.png'.format(i),dpi=300)\n",
    "plt.show()"
   ]
  },
  {
   "cell_type": "code",
   "execution_count": 37,
   "metadata": {},
   "outputs": [
    {
     "data": {
      "image/png": "[encoded data removed]",
      "text/plain": [
       "<matplotlib.figure.Figure at 0xd66d7cbdd8>"
      ]
     },
     "metadata": {},
     "output_type": "display_data"
    }
   ],
   "source": [
    "#plt.figure(figsize=(8,6))\n",
    "orctdata_all.plot(column='rate',legend = True)\n",
    "plt.title('OR Prescription Rate per County')\n",
    "plt.axis('off')\n",
    "plt.rcParams[\"figure.figsize\"] = [8.0,6.0]\n",
    "#plt.savefig(\"test.png\", bbox_inches='tight')\n",
    "plt.savefig(r'E:\\Bootcamp_Summer_Project\\OR Rate.png',dpi=100)\n",
    "plt.show()"
   ]
  },
  {
   "cell_type": "code",
   "execution_count": 36,
   "metadata": {},
   "outputs": [
    {
     "data": {
      "image/png": "[encoded data removed]",
      "text/plain": [
       "<matplotlib.figure.Figure at 0xd66d869710>"
      ]
     },
     "metadata": {},
     "output_type": "display_data"
    }
   ],
   "source": [
    "#plt.figure(figsize=(8,6))\n",
    "mactdata_all.plot(column='rate',legend = True)\n",
    "plt.title('MA Prescription Rate per County')\n",
    "plt.axis('off')\n",
    "plt.rcParams[\"figure.figsize\"] = [8.0,6.0]\n",
    "#plt.savefig(\"test.png\", bbox_inches='tight')\n",
    "plt.savefig(r'E:\\Bootcamp_Summer_Project\\MA Rate.png',dpi=100)\n",
    "plt.show()"
   ]
  },
  {
   "cell_type": "code",
   "execution_count": 35,
   "metadata": {},
   "outputs": [
    {
     "data": {
      "image/png": "[encoded data removed]",
      "text/plain": [
       "<matplotlib.figure.Figure at 0xd66d7d4518>"
      ]
     },
     "metadata": {},
     "output_type": "display_data"
    }
   ],
   "source": [
    "#plt.figure(figsize=(8,6))\n",
    "ncctdata_all.plot(column='rate',legend = True)\n",
    "plt.title('NC Prescription Rate per County')\n",
    "plt.axis('off')\n",
    "plt.rcParams[\"figure.figsize\"] = [8.0,6.0]\n",
    "#plt.savefig(\"test.png\", bbox_inches='tight')\n",
    "plt.savefig(r'E:\\Bootcamp_Summer_Project\\NC Rate.png',dpi=100)\n",
    "plt.show()"
   ]
  },
  {
   "cell_type": "markdown",
   "metadata": {},
   "source": [
    "# Trx map"
   ]
  },
  {
   "cell_type": "code",
   "execution_count": 40,
   "metadata": {},
   "outputs": [],
   "source": [
    "#trx_df=sas_to_df(r'E:\\Bootcamp_Summer_Project\\Zhongshuai_Cao\\Original_Data\\Data\\rx_records_trx.sas7bdat')\n",
    "#trx_df.to_csv(r'E:\\Bootcamp_Summer_Project\\Zhongshuai_Cao\\Original_Data\\Data\\rx_records_trx.csv')"
   ]
  },
  {
   "cell_type": "code",
   "execution_count": 65,
   "metadata": {},
   "outputs": [],
   "source": [
    "trx_df=pd.read_csv(r'E:\\Bootcamp_Summer_Project\\Zhongshuai_Cao\\Original_Data\\Data\\rx_records_trx.csv',dtype={'Zip':str,'Product_Group':int},index_col=0)"
   ]
  },
  {
   "cell_type": "code",
   "execution_count": 53,
   "metadata": {},
   "outputs": [],
   "source": [
    "med_df=pd.read_csv('E:\\Bootcamp_Summer_Project\\Original_Data - Rename Files\\Data\\medication_details.csv')"
   ]
  },
  {
   "cell_type": "markdown",
   "metadata": {},
   "source": [
    "## Get zip code county convert dataframe"
   ]
  },
  {
   "cell_type": "code",
   "execution_count": 168,
   "metadata": {},
   "outputs": [],
   "source": [
    "zip_code_df=pd.read_csv('E:\\Team_Data\\zip_code_database.csv', dtype={'zip':str,'county':str},index_col=0)\n",
    "zip_code_df=zip_code_df[['zip','state','county']]\n",
    "zip_code_df=zip_code_df[zip_code_df['state'].isin(['NC','MA','OR'])]\n",
    "zip_code_df['county']=zip_code_df['county'].astype(str).apply(lambda x: x if not re.search(r'County',x) else re.findall(r'(.+) County',x)[0])"
   ]
  },
  {
   "cell_type": "code",
   "execution_count": null,
   "metadata": {},
   "outputs": [],
   "source": [
    "mergeddf=trx_df.merge(med_df[['PG','Product_Basename']].drop_duplicates(),left_on='Product_Group', right_on='PG', how='left').drop(['Product_Group','PG','PG_Name','Specialty','city'],axis=1)"
   ]
  },
  {
   "cell_type": "code",
   "execution_count": 173,
   "metadata": {},
   "outputs": [],
   "source": [
    "mergeddf=mergeddf.merge(zip_code_df,left_on=('ST','Zip'),right_on=('state','zip'))"
   ]
  },
  {
   "cell_type": "code",
   "execution_count": 178,
   "metadata": {},
   "outputs": [],
   "source": [
    "mergeddf=mergeddf.drop(['Zip','ST'],axis=1)"
   ]
  },
  {
   "cell_type": "code",
   "execution_count": 179,
   "metadata": {},
   "outputs": [
    {
     "data": {
      "text/html": [
       "<div>\n",
       "<style>\n",
       "    .dataframe thead tr:only-child th {\n",
       "        text-align: right;\n",
       "    }\n",
       "\n",
       "    .dataframe thead th {\n",
       "        text-align: left;\n",
       "    }\n",
       "\n",
       "    .dataframe tbody tr th {\n",
       "        vertical-align: top;\n",
       "    }\n",
       "</style>\n",
       "<table border=\"1\" class=\"dataframe\">\n",
       "  <thead>\n",
       "    <tr style=\"text-align: right;\">\n",
       "      <th></th>\n",
       "      <th>TRx_08312017</th>\n",
       "      <th>TRx_07312017</th>\n",
       "      <th>TRx_06302017</th>\n",
       "      <th>TRx_05312017</th>\n",
       "      <th>TRx_04302017</th>\n",
       "      <th>TRx_03312017</th>\n",
       "      <th>TRx_02282017</th>\n",
       "      <th>TRx_01312017</th>\n",
       "      <th>TRx_12312016</th>\n",
       "      <th>TRx_11302016</th>\n",
       "      <th>...</th>\n",
       "      <th>TRx_02292016</th>\n",
       "      <th>TRx_01312016</th>\n",
       "      <th>TRx_12312015</th>\n",
       "      <th>TRx_11302015</th>\n",
       "      <th>TRx_10312015</th>\n",
       "      <th>TRx_09302015</th>\n",
       "      <th>Product_Basename</th>\n",
       "      <th>zip</th>\n",
       "      <th>state</th>\n",
       "      <th>county</th>\n",
       "    </tr>\n",
       "  </thead>\n",
       "  <tbody>\n",
       "    <tr>\n",
       "      <th>0</th>\n",
       "      <td>0.000</td>\n",
       "      <td>0.00</td>\n",
       "      <td>1.015</td>\n",
       "      <td>1.017</td>\n",
       "      <td>0.000</td>\n",
       "      <td>0.000</td>\n",
       "      <td>0.000</td>\n",
       "      <td>0.000</td>\n",
       "      <td>0.00</td>\n",
       "      <td>1.020</td>\n",
       "      <td>...</td>\n",
       "      <td>0.000</td>\n",
       "      <td>0.000</td>\n",
       "      <td>0.000</td>\n",
       "      <td>0.000</td>\n",
       "      <td>0.00</td>\n",
       "      <td>0.000</td>\n",
       "      <td>HYDROMORPHONE</td>\n",
       "      <td>02135</td>\n",
       "      <td>MA</td>\n",
       "      <td>Suffolk</td>\n",
       "    </tr>\n",
       "    <tr>\n",
       "      <th>1</th>\n",
       "      <td>0.000</td>\n",
       "      <td>0.00</td>\n",
       "      <td>0.000</td>\n",
       "      <td>0.000</td>\n",
       "      <td>0.000</td>\n",
       "      <td>0.000</td>\n",
       "      <td>0.000</td>\n",
       "      <td>0.000</td>\n",
       "      <td>0.00</td>\n",
       "      <td>0.000</td>\n",
       "      <td>...</td>\n",
       "      <td>0.000</td>\n",
       "      <td>1.003</td>\n",
       "      <td>0.000</td>\n",
       "      <td>0.000</td>\n",
       "      <td>0.00</td>\n",
       "      <td>0.000</td>\n",
       "      <td>OXYCODONE</td>\n",
       "      <td>02135</td>\n",
       "      <td>MA</td>\n",
       "      <td>Suffolk</td>\n",
       "    </tr>\n",
       "    <tr>\n",
       "      <th>2</th>\n",
       "      <td>0.000</td>\n",
       "      <td>0.00</td>\n",
       "      <td>0.000</td>\n",
       "      <td>0.000</td>\n",
       "      <td>0.000</td>\n",
       "      <td>0.000</td>\n",
       "      <td>0.000</td>\n",
       "      <td>0.000</td>\n",
       "      <td>0.00</td>\n",
       "      <td>0.000</td>\n",
       "      <td>...</td>\n",
       "      <td>0.000</td>\n",
       "      <td>0.000</td>\n",
       "      <td>0.000</td>\n",
       "      <td>0.000</td>\n",
       "      <td>0.00</td>\n",
       "      <td>0.000</td>\n",
       "      <td>NUCYNTA</td>\n",
       "      <td>02135</td>\n",
       "      <td>MA</td>\n",
       "      <td>Suffolk</td>\n",
       "    </tr>\n",
       "    <tr>\n",
       "      <th>3</th>\n",
       "      <td>3.117</td>\n",
       "      <td>2.04</td>\n",
       "      <td>2.015</td>\n",
       "      <td>2.017</td>\n",
       "      <td>3.404</td>\n",
       "      <td>5.024</td>\n",
       "      <td>8.147</td>\n",
       "      <td>6.477</td>\n",
       "      <td>6.43</td>\n",
       "      <td>6.497</td>\n",
       "      <td>...</td>\n",
       "      <td>7.414</td>\n",
       "      <td>8.598</td>\n",
       "      <td>7.771</td>\n",
       "      <td>11.728</td>\n",
       "      <td>4.05</td>\n",
       "      <td>7.473</td>\n",
       "      <td>OXYCONTIN</td>\n",
       "      <td>02135</td>\n",
       "      <td>MA</td>\n",
       "      <td>Suffolk</td>\n",
       "    </tr>\n",
       "    <tr>\n",
       "      <th>4</th>\n",
       "      <td>0.000</td>\n",
       "      <td>0.00</td>\n",
       "      <td>0.000</td>\n",
       "      <td>0.000</td>\n",
       "      <td>0.000</td>\n",
       "      <td>0.000</td>\n",
       "      <td>0.000</td>\n",
       "      <td>0.000</td>\n",
       "      <td>0.00</td>\n",
       "      <td>0.000</td>\n",
       "      <td>...</td>\n",
       "      <td>0.000</td>\n",
       "      <td>0.000</td>\n",
       "      <td>0.000</td>\n",
       "      <td>0.000</td>\n",
       "      <td>0.00</td>\n",
       "      <td>0.000</td>\n",
       "      <td>OXYCODONE</td>\n",
       "      <td>02135</td>\n",
       "      <td>MA</td>\n",
       "      <td>Suffolk</td>\n",
       "    </tr>\n",
       "  </tbody>\n",
       "</table>\n",
       "<p>5 rows × 28 columns</p>\n",
       "</div>"
      ],
      "text/plain": [
       "   TRx_08312017  TRx_07312017  TRx_06302017  TRx_05312017  TRx_04302017  \\\n",
       "0         0.000          0.00         1.015         1.017         0.000   \n",
       "1         0.000          0.00         0.000         0.000         0.000   \n",
       "2         0.000          0.00         0.000         0.000         0.000   \n",
       "3         3.117          2.04         2.015         2.017         3.404   \n",
       "4         0.000          0.00         0.000         0.000         0.000   \n",
       "\n",
       "   TRx_03312017  TRx_02282017  TRx_01312017  TRx_12312016  TRx_11302016  \\\n",
       "0         0.000         0.000         0.000          0.00         1.020   \n",
       "1         0.000         0.000         0.000          0.00         0.000   \n",
       "2         0.000         0.000         0.000          0.00         0.000   \n",
       "3         5.024         8.147         6.477          6.43         6.497   \n",
       "4         0.000         0.000         0.000          0.00         0.000   \n",
       "\n",
       "    ...     TRx_02292016  TRx_01312016  TRx_12312015  TRx_11302015  \\\n",
       "0   ...            0.000         0.000         0.000         0.000   \n",
       "1   ...            0.000         1.003         0.000         0.000   \n",
       "2   ...            0.000         0.000         0.000         0.000   \n",
       "3   ...            7.414         8.598         7.771        11.728   \n",
       "4   ...            0.000         0.000         0.000         0.000   \n",
       "\n",
       "   TRx_10312015  TRx_09302015  Product_Basename    zip  state   county  \n",
       "0          0.00         0.000     HYDROMORPHONE  02135     MA  Suffolk  \n",
       "1          0.00         0.000         OXYCODONE  02135     MA  Suffolk  \n",
       "2          0.00         0.000           NUCYNTA  02135     MA  Suffolk  \n",
       "3          4.05         7.473         OXYCONTIN  02135     MA  Suffolk  \n",
       "4          0.00         0.000         OXYCODONE  02135     MA  Suffolk  \n",
       "\n",
       "[5 rows x 28 columns]"
      ]
     },
     "execution_count": 179,
     "metadata": {},
     "output_type": "execute_result"
    }
   ],
   "source": [
    "mergeddf.head()"
   ]
  },
  {
   "cell_type": "markdown",
   "metadata": {},
   "source": [
    "## Get trx county dataframe"
   ]
  },
  {
   "cell_type": "code",
   "execution_count": 203,
   "metadata": {},
   "outputs": [],
   "source": [
    "trx_ct_df=mergeddf.groupby(['Product_Basename','state','county']).sum()\n",
    "trx_ct_df['total']=trx_ct_df.sum(axis=1)\n",
    "trx_ct_df=trx_ct_df.reset_index()\n",
    "trx_ct_df=trx_ct_df[['Product_Basename','state','county','total']]"
   ]
  },
  {
   "cell_type": "code",
   "execution_count": 205,
   "metadata": {},
   "outputs": [
    {
     "data": {
      "text/html": [
       "<div>\n",
       "<style>\n",
       "    .dataframe thead tr:only-child th {\n",
       "        text-align: right;\n",
       "    }\n",
       "\n",
       "    .dataframe thead th {\n",
       "        text-align: left;\n",
       "    }\n",
       "\n",
       "    .dataframe tbody tr th {\n",
       "        vertical-align: top;\n",
       "    }\n",
       "</style>\n",
       "<table border=\"1\" class=\"dataframe\">\n",
       "  <thead>\n",
       "    <tr style=\"text-align: right;\">\n",
       "      <th></th>\n",
       "      <th>Product_Basename</th>\n",
       "      <th>state</th>\n",
       "      <th>county</th>\n",
       "      <th>total</th>\n",
       "    </tr>\n",
       "  </thead>\n",
       "  <tbody>\n",
       "    <tr>\n",
       "      <th>0</th>\n",
       "      <td>ARYMO</td>\n",
       "      <td>MA</td>\n",
       "      <td>Barnstable</td>\n",
       "      <td>459.818</td>\n",
       "    </tr>\n",
       "    <tr>\n",
       "      <th>1</th>\n",
       "      <td>ARYMO</td>\n",
       "      <td>MA</td>\n",
       "      <td>Berkshire</td>\n",
       "      <td>407.297</td>\n",
       "    </tr>\n",
       "    <tr>\n",
       "      <th>2</th>\n",
       "      <td>ARYMO</td>\n",
       "      <td>MA</td>\n",
       "      <td>Bristol</td>\n",
       "      <td>1333.282</td>\n",
       "    </tr>\n",
       "    <tr>\n",
       "      <th>3</th>\n",
       "      <td>ARYMO</td>\n",
       "      <td>MA</td>\n",
       "      <td>Dukes</td>\n",
       "      <td>71.945</td>\n",
       "    </tr>\n",
       "    <tr>\n",
       "      <th>4</th>\n",
       "      <td>ARYMO</td>\n",
       "      <td>MA</td>\n",
       "      <td>Essex</td>\n",
       "      <td>1664.635</td>\n",
       "    </tr>\n",
       "  </tbody>\n",
       "</table>\n",
       "</div>"
      ],
      "text/plain": [
       "  Product_Basename state      county     total\n",
       "0            ARYMO    MA  Barnstable   459.818\n",
       "1            ARYMO    MA   Berkshire   407.297\n",
       "2            ARYMO    MA     Bristol  1333.282\n",
       "3            ARYMO    MA       Dukes    71.945\n",
       "4            ARYMO    MA       Essex  1664.635"
      ]
     },
     "execution_count": 205,
     "metadata": {},
     "output_type": "execute_result"
    }
   ],
   "source": [
    "trx_ct_df.head()"
   ]
  },
  {
   "cell_type": "code",
   "execution_count": 206,
   "metadata": {},
   "outputs": [],
   "source": [
    "nc_trx_ct=ncdata.merge(trx_ct_df[trx_ct_df['state']=='NC'], left_on='NAME',right_on='county',how='right')"
   ]
  },
  {
   "cell_type": "code",
   "execution_count": 214,
   "metadata": {},
   "outputs": [],
   "source": [
    "ma_trx_ct=ncdata.merge(trx_ct_df[trx_ct_df['state']=='MA'], left_on='NAME',right_on='county',how='right')\n",
    "or_trx_ct=ncdata.merge(trx_ct_df[trx_ct_df['state']=='OR'], left_on='NAME',right_on='county',how='right')"
   ]
  },
  {
   "cell_type": "code",
   "execution_count": 211,
   "metadata": {},
   "outputs": [],
   "source": [
    "PB=set(nc_trx_ct['Product_Basename'])"
   ]
  },
  {
   "cell_type": "code",
   "execution_count": null,
   "metadata": {},
   "outputs": [],
   "source": [
    "nc_trx_ct[nc_trx_ct['Product_Basename']=='FENTANYL'].sort_values(['total'],ascending=False)"
   ]
  },
  {
   "cell_type": "code",
   "execution_count": null,
   "metadata": {},
   "outputs": [],
   "source": [
    "for i in PB:\n",
    "    nc_trx_ct[nc_trx_ct['Product_Basename']==i].plot(column='total',legend = True)\n",
    "    plt.title('NC {0} Prescription Rate per County'.format(i))\n",
    "    plt.axis('off')\n",
    "    plt.rcParams[\"figure.figsize\"] = [8.0,6.0]\n",
    "#plt.savefig(\"test.png\", bbox_inches='tight')\n",
    "#plt.savefig(r'E:\\Bootcamp_Summer_Project\\NC Rate.png',dpi=100)\n",
    "plt.show()"
   ]
  },
  {
   "cell_type": "code",
   "execution_count": 259,
   "metadata": {},
   "outputs": [
    {
     "data": {
      "text/html": [
       "<div>\n",
       "<style>\n",
       "    .dataframe thead tr:only-child th {\n",
       "        text-align: right;\n",
       "    }\n",
       "\n",
       "    .dataframe thead th {\n",
       "        text-align: left;\n",
       "    }\n",
       "\n",
       "    .dataframe tbody tr th {\n",
       "        vertical-align: top;\n",
       "    }\n",
       "</style>\n",
       "<table border=\"1\" class=\"dataframe\">\n",
       "  <thead>\n",
       "    <tr style=\"text-align: right;\">\n",
       "      <th></th>\n",
       "      <th>STATEFP</th>\n",
       "      <th>COUNTYFP</th>\n",
       "      <th>COUNTYNS</th>\n",
       "      <th>AFFGEOID</th>\n",
       "      <th>GEOID</th>\n",
       "      <th>NAME</th>\n",
       "      <th>LSAD</th>\n",
       "      <th>ALAND</th>\n",
       "      <th>AWATER</th>\n",
       "      <th>geometry</th>\n",
       "      <th>ct</th>\n",
       "      <th>pop</th>\n",
       "      <th>total</th>\n",
       "      <th>rate</th>\n",
       "    </tr>\n",
       "  </thead>\n",
       "  <tbody>\n",
       "    <tr>\n",
       "      <th>0</th>\n",
       "      <td>37</td>\n",
       "      <td>027</td>\n",
       "      <td>01008541</td>\n",
       "      <td>0500000US37027</td>\n",
       "      <td>37027</td>\n",
       "      <td>Caldwell</td>\n",
       "      <td>06</td>\n",
       "      <td>1222192511</td>\n",
       "      <td>7038401</td>\n",
       "      <td>POLYGON ((-81.81051599999999 36.111511, -81.77...</td>\n",
       "      <td>Caldwell</td>\n",
       "      <td>79726.0</td>\n",
       "      <td>13215.935</td>\n",
       "      <td>0.165767</td>\n",
       "    </tr>\n",
       "  </tbody>\n",
       "</table>\n",
       "</div>"
      ],
      "text/plain": [
       "  STATEFP COUNTYFP  COUNTYNS        AFFGEOID  GEOID      NAME LSAD  \\\n",
       "0      37      027  01008541  0500000US37027  37027  Caldwell   06   \n",
       "\n",
       "        ALAND   AWATER                                           geometry  \\\n",
       "0  1222192511  7038401  POLYGON ((-81.81051599999999 36.111511, -81.77...   \n",
       "\n",
       "         ct      pop      total      rate  \n",
       "0  Caldwell  79726.0  13215.935  0.165767  "
      ]
     },
     "execution_count": 259,
     "metadata": {},
     "output_type": "execute_result"
    }
   ],
   "source": [
    "ncctdata_all.head(1)"
   ]
  },
  {
   "cell_type": "code",
   "execution_count": 261,
   "metadata": {},
   "outputs": [
    {
     "data": {
      "text/html": [
       "<div>\n",
       "<style>\n",
       "    .dataframe thead tr:only-child th {\n",
       "        text-align: right;\n",
       "    }\n",
       "\n",
       "    .dataframe thead th {\n",
       "        text-align: left;\n",
       "    }\n",
       "\n",
       "    .dataframe tbody tr th {\n",
       "        vertical-align: top;\n",
       "    }\n",
       "</style>\n",
       "<table border=\"1\" class=\"dataframe\">\n",
       "  <thead>\n",
       "    <tr style=\"text-align: right;\">\n",
       "      <th></th>\n",
       "      <th>STATEFP</th>\n",
       "      <th>COUNTYFP</th>\n",
       "      <th>COUNTYNS</th>\n",
       "      <th>AFFGEOID</th>\n",
       "      <th>GEOID</th>\n",
       "      <th>NAME</th>\n",
       "      <th>LSAD</th>\n",
       "      <th>ALAND</th>\n",
       "      <th>AWATER</th>\n",
       "      <th>geometry</th>\n",
       "      <th>Product_Basename</th>\n",
       "      <th>state</th>\n",
       "      <th>county</th>\n",
       "      <th>total</th>\n",
       "    </tr>\n",
       "  </thead>\n",
       "  <tbody>\n",
       "    <tr>\n",
       "      <th>0</th>\n",
       "      <td>37</td>\n",
       "      <td>027</td>\n",
       "      <td>01008541</td>\n",
       "      <td>0500000US37027</td>\n",
       "      <td>37027</td>\n",
       "      <td>Caldwell</td>\n",
       "      <td>06</td>\n",
       "      <td>1222192511</td>\n",
       "      <td>7038401</td>\n",
       "      <td>POLYGON ((-81.81051599999999 36.111511, -81.77...</td>\n",
       "      <td>ARYMO</td>\n",
       "      <td>NC</td>\n",
       "      <td>Caldwell</td>\n",
       "      <td>52.311</td>\n",
       "    </tr>\n",
       "  </tbody>\n",
       "</table>\n",
       "</div>"
      ],
      "text/plain": [
       "  STATEFP COUNTYFP  COUNTYNS        AFFGEOID  GEOID      NAME LSAD  \\\n",
       "0      37      027  01008541  0500000US37027  37027  Caldwell   06   \n",
       "\n",
       "        ALAND   AWATER                                           geometry  \\\n",
       "0  1222192511  7038401  POLYGON ((-81.81051599999999 36.111511, -81.77...   \n",
       "\n",
       "  Product_Basename state    county   total  \n",
       "0            ARYMO    NC  Caldwell  52.311  "
      ]
     },
     "execution_count": 261,
     "metadata": {},
     "output_type": "execute_result"
    }
   ],
   "source": [
    "nc_trx_ct.head(1)"
   ]
  },
  {
   "cell_type": "code",
   "execution_count": 264,
   "metadata": {},
   "outputs": [],
   "source": [
    "xxxxx=nc_trx_ct.merge(ncctdata_all[['pop','ct']],left_on='county',right_on='ct',how='left')"
   ]
  },
  {
   "cell_type": "code",
   "execution_count": 266,
   "metadata": {},
   "outputs": [],
   "source": [
    "xxxxx['trxrate']=xxxxx['total']/xxxxx['pop']"
   ]
  },
  {
   "cell_type": "code",
   "execution_count": null,
   "metadata": {},
   "outputs": [],
   "source": [
    "xxxxx[xxxxx['Product_Basename']=='FENTANYL']"
   ]
  },
  {
   "cell_type": "code",
   "execution_count": 252,
   "metadata": {},
   "outputs": [
    {
     "data": {
      "text/html": [
       "<div>\n",
       "<style>\n",
       "    .dataframe thead tr:only-child th {\n",
       "        text-align: right;\n",
       "    }\n",
       "\n",
       "    .dataframe thead th {\n",
       "        text-align: left;\n",
       "    }\n",
       "\n",
       "    .dataframe tbody tr th {\n",
       "        vertical-align: top;\n",
       "    }\n",
       "</style>\n",
       "<table border=\"1\" class=\"dataframe\">\n",
       "  <thead>\n",
       "    <tr style=\"text-align: right;\">\n",
       "      <th></th>\n",
       "      <th>STATEFP_x</th>\n",
       "      <th>COUNTYFP_x</th>\n",
       "      <th>COUNTYNS_x</th>\n",
       "      <th>AFFGEOID_x</th>\n",
       "      <th>GEOID_x</th>\n",
       "      <th>NAME_x</th>\n",
       "      <th>LSAD_x</th>\n",
       "      <th>ALAND_x</th>\n",
       "      <th>AWATER_x</th>\n",
       "      <th>geometry_x</th>\n",
       "      <th>...</th>\n",
       "      <th>NAME_y</th>\n",
       "      <th>LSAD_y</th>\n",
       "      <th>ALAND_y</th>\n",
       "      <th>AWATER_y</th>\n",
       "      <th>geometry_y</th>\n",
       "      <th>ct</th>\n",
       "      <th>pop</th>\n",
       "      <th>total_y</th>\n",
       "      <th>rate</th>\n",
       "      <th>trxrate</th>\n",
       "    </tr>\n",
       "  </thead>\n",
       "  <tbody>\n",
       "  </tbody>\n",
       "</table>\n",
       "<p>0 rows × 29 columns</p>\n",
       "</div>"
      ],
      "text/plain": [
       "Empty DataFrame\n",
       "Columns: [STATEFP_x, COUNTYFP_x, COUNTYNS_x, AFFGEOID_x, GEOID_x, NAME_x, LSAD_x, ALAND_x, AWATER_x, geometry_x, Product_Basename, state, county, total_x, STATEFP_y, COUNTYFP_y, COUNTYNS_y, AFFGEOID_y, GEOID_y, NAME_y, LSAD_y, ALAND_y, AWATER_y, geometry_y, ct, pop, total_y, rate, trxrate]\n",
       "Index: []\n",
       "\n",
       "[0 rows x 29 columns]"
      ]
     },
     "execution_count": 252,
     "metadata": {},
     "output_type": "execute_result"
    }
   ],
   "source": [
    "xxxxx[xxxxx['trxrate'].isnull()]"
   ]
  },
  {
   "cell_type": "code",
   "execution_count": 274,
   "metadata": {},
   "outputs": [
    {
     "data": {
      "image/png": "[encoded data removed]",
      "text/plain": [
       "<matplotlib.figure.Figure at 0xd67ddedba8>"
      ]
     },
     "metadata": {},
     "output_type": "display_data"
    }
   ],
   "source": [
    "xxxxx[xxxxx['Product_Basename']=='FENTANYL'].plot(column='trxrate',legend = True)\n",
    "plt.title('NC FENTANYL Prescription Rate per County')\n",
    "plt.axis('off')\n",
    "#plt.rcParams[\"figure.figsize\"] = [8.0,6.0]\n",
    "#plt.savefig(\"test.png\", bbox_inches='tight')\n",
    "#plt.savefig(r'E:\\Bootcamp_Summer_Project\\NC Rate.png',dpi=100)\n",
    "plt.show()"
   ]
  },
  {
   "cell_type": "code",
   "execution_count": 273,
   "metadata": {},
   "outputs": [
    {
     "data": {
      "text/html": [
       "<div>\n",
       "<style>\n",
       "    .dataframe thead tr:only-child th {\n",
       "        text-align: right;\n",
       "    }\n",
       "\n",
       "    .dataframe thead th {\n",
       "        text-align: left;\n",
       "    }\n",
       "\n",
       "    .dataframe tbody tr th {\n",
       "        vertical-align: top;\n",
       "    }\n",
       "</style>\n",
       "<table border=\"1\" class=\"dataframe\">\n",
       "  <thead>\n",
       "    <tr style=\"text-align: right;\">\n",
       "      <th></th>\n",
       "      <th>STATEFP</th>\n",
       "      <th>COUNTYFP</th>\n",
       "      <th>COUNTYNS</th>\n",
       "      <th>AFFGEOID</th>\n",
       "      <th>GEOID</th>\n",
       "      <th>NAME</th>\n",
       "      <th>LSAD</th>\n",
       "      <th>ALAND</th>\n",
       "      <th>AWATER</th>\n",
       "      <th>geometry</th>\n",
       "      <th>Product_Basename</th>\n",
       "      <th>state</th>\n",
       "      <th>county</th>\n",
       "      <th>total</th>\n",
       "      <th>pop</th>\n",
       "      <th>ct</th>\n",
       "      <th>trxrate</th>\n",
       "    </tr>\n",
       "  </thead>\n",
       "  <tbody>\n",
       "    <tr>\n",
       "      <th>1249</th>\n",
       "      <td>37</td>\n",
       "      <td>091</td>\n",
       "      <td>01026127</td>\n",
       "      <td>0500000US37091</td>\n",
       "      <td>37091</td>\n",
       "      <td>Hertford</td>\n",
       "      <td>06</td>\n",
       "      <td>914685904</td>\n",
       "      <td>18740844</td>\n",
       "      <td>POLYGON ((-77.208606 36.246838, -77.1990409999...</td>\n",
       "      <td>FENTANYL</td>\n",
       "      <td>NC</td>\n",
       "      <td>Hertford</td>\n",
       "      <td>3113.814</td>\n",
       "      <td>28046.0</td>\n",
       "      <td>Hertford</td>\n",
       "      <td>0.111025</td>\n",
       "    </tr>\n",
       "    <tr>\n",
       "      <th>406</th>\n",
       "      <td>37</td>\n",
       "      <td>125</td>\n",
       "      <td>01008573</td>\n",
       "      <td>0500000US37125</td>\n",
       "      <td>37125</td>\n",
       "      <td>Moore</td>\n",
       "      <td>06</td>\n",
       "      <td>1806961891</td>\n",
       "      <td>20736340</td>\n",
       "      <td>POLYGON ((-79.767957 35.511484, -79.724457 35....</td>\n",
       "      <td>FENTANYL</td>\n",
       "      <td>NC</td>\n",
       "      <td>Moore</td>\n",
       "      <td>9788.830</td>\n",
       "      <td>89489.0</td>\n",
       "      <td>Moore</td>\n",
       "      <td>0.109386</td>\n",
       "    </tr>\n",
       "    <tr>\n",
       "      <th>316</th>\n",
       "      <td>37</td>\n",
       "      <td>129</td>\n",
       "      <td>01026329</td>\n",
       "      <td>0500000US37129</td>\n",
       "      <td>37129</td>\n",
       "      <td>New Hanover</td>\n",
       "      <td>06</td>\n",
       "      <td>497789754</td>\n",
       "      <td>353951640</td>\n",
       "      <td>POLYGON ((-78.029922 34.331768, -77.993202 34....</td>\n",
       "      <td>FENTANYL</td>\n",
       "      <td>NC</td>\n",
       "      <td>New Hanover</td>\n",
       "      <td>16225.064</td>\n",
       "      <td>218510.0</td>\n",
       "      <td>New Hanover</td>\n",
       "      <td>0.074253</td>\n",
       "    </tr>\n",
       "    <tr>\n",
       "      <th>679</th>\n",
       "      <td>37</td>\n",
       "      <td>035</td>\n",
       "      <td>01008543</td>\n",
       "      <td>0500000US37035</td>\n",
       "      <td>37035</td>\n",
       "      <td>Catawba</td>\n",
       "      <td>06</td>\n",
       "      <td>1039550614</td>\n",
       "      <td>37945362</td>\n",
       "      <td>POLYGON ((-81.53419699999999 35.570335, -81.50...</td>\n",
       "      <td>FENTANYL</td>\n",
       "      <td>NC</td>\n",
       "      <td>Catawba</td>\n",
       "      <td>12043.976</td>\n",
       "      <td>163398.0</td>\n",
       "      <td>Catawba</td>\n",
       "      <td>0.073709</td>\n",
       "    </tr>\n",
       "    <tr>\n",
       "      <th>522</th>\n",
       "      <td>37</td>\n",
       "      <td>047</td>\n",
       "      <td>01026339</td>\n",
       "      <td>0500000US37047</td>\n",
       "      <td>37047</td>\n",
       "      <td>Columbus</td>\n",
       "      <td>06</td>\n",
       "      <td>2429714643</td>\n",
       "      <td>43719396</td>\n",
       "      <td>POLYGON ((-79.0712438523822 34.29930291305701,...</td>\n",
       "      <td>FENTANYL</td>\n",
       "      <td>NC</td>\n",
       "      <td>Columbus</td>\n",
       "      <td>3915.981</td>\n",
       "      <td>56975.0</td>\n",
       "      <td>Columbus</td>\n",
       "      <td>0.068732</td>\n",
       "    </tr>\n",
       "  </tbody>\n",
       "</table>\n",
       "</div>"
      ],
      "text/plain": [
       "     STATEFP COUNTYFP  COUNTYNS        AFFGEOID  GEOID         NAME LSAD  \\\n",
       "1249      37      091  01026127  0500000US37091  37091     Hertford   06   \n",
       "406       37      125  01008573  0500000US37125  37125        Moore   06   \n",
       "316       37      129  01026329  0500000US37129  37129  New Hanover   06   \n",
       "679       37      035  01008543  0500000US37035  37035      Catawba   06   \n",
       "522       37      047  01026339  0500000US37047  37047     Columbus   06   \n",
       "\n",
       "           ALAND     AWATER  \\\n",
       "1249   914685904   18740844   \n",
       "406   1806961891   20736340   \n",
       "316    497789754  353951640   \n",
       "679   1039550614   37945362   \n",
       "522   2429714643   43719396   \n",
       "\n",
       "                                               geometry Product_Basename  \\\n",
       "1249  POLYGON ((-77.208606 36.246838, -77.1990409999...         FENTANYL   \n",
       "406   POLYGON ((-79.767957 35.511484, -79.724457 35....         FENTANYL   \n",
       "316   POLYGON ((-78.029922 34.331768, -77.993202 34....         FENTANYL   \n",
       "679   POLYGON ((-81.53419699999999 35.570335, -81.50...         FENTANYL   \n",
       "522   POLYGON ((-79.0712438523822 34.29930291305701,...         FENTANYL   \n",
       "\n",
       "     state       county      total       pop           ct   trxrate  \n",
       "1249    NC     Hertford   3113.814   28046.0     Hertford  0.111025  \n",
       "406     NC        Moore   9788.830   89489.0        Moore  0.109386  \n",
       "316     NC  New Hanover  16225.064  218510.0  New Hanover  0.074253  \n",
       "679     NC      Catawba  12043.976  163398.0      Catawba  0.073709  \n",
       "522     NC     Columbus   3915.981   56975.0     Columbus  0.068732  "
      ]
     },
     "execution_count": 273,
     "metadata": {},
     "output_type": "execute_result"
    }
   ],
   "source": [
    "xxxxx[xxxxx['Product_Basename']=='FENTANYL'].sort_values(['trxrate'],ascending=False).head()"
   ]
  },
  {
   "cell_type": "markdown",
   "metadata": {},
   "source": [
    "# Top four trx distribution in NC"
   ]
  },
  {
   "cell_type": "code",
   "execution_count": 276,
   "metadata": {},
   "outputs": [],
   "source": [
    "# top four opioid drug list\n",
    "opioid=['OXYCODONE','OXYCONTIN','OPANA','FENTANYL']"
   ]
  },
  {
   "cell_type": "code",
   "execution_count": null,
   "metadata": {},
   "outputs": [],
   "source": [
    "for i in PB:\n",
    "    xxxxx[xxxxx['Product_Basename']==i].plot(column='trxrate',legend = True)\n",
    "    plt.title('NC {0} Prescription Rate per County'.format(i))\n",
    "    plt.axis('off')\n",
    "    #plt.rcParams[\"figure.figsize\"] = [8.0,6.0]\n",
    "#plt.savefig(\"test.png\", bbox_inches='tight')\n",
    "#plt.savefig(r'E:\\Bootcamp_Summer_Project\\NC Rate.png',dpi=100)\n",
    "plt.show()"
   ]
  },
  {
   "cell_type": "code",
   "execution_count": null,
   "metadata": {},
   "outputs": [],
   "source": [
    "for i in PB:\n",
    "    ma_trx_ct[ma_trx_ct['Product_Basename']==i].plot(column='total',legend = True)"
   ]
  },
  {
   "cell_type": "code",
   "execution_count": null,
   "metadata": {},
   "outputs": [],
   "source": [
    "PB"
   ]
  },
  {
   "cell_type": "code",
   "execution_count": null,
   "metadata": {},
   "outputs": [],
   "source": [
    "for i in PB:\n",
    "    if sum(ma_trx_ct['Product_Basename']==i):\n",
    "        ma_trx_ct[ma_trx_ct['Product_Basename']==i].plot(column='total',legend = True)\n",
    "        plt.title('MA {0} Prescription Rate per County'.format(i))\n",
    "        plt.axis('off')\n",
    "        plt.rcParams[\"figure.figsize\"] = [8.0,6.0]\n",
    "#plt.savefig(\"test.png\", bbox_inches='tight')\n",
    "#plt.savefig(r'E:\\Bootcamp_Summer_Project\\NC Rate.png',dpi=100)\n",
    "plt.show()"
   ]
  },
  {
   "cell_type": "code",
   "execution_count": null,
   "metadata": {},
   "outputs": [],
   "source": [
    "for i in PB:\n",
    "    if sum(or_trx_ct['Product_Basename']==i):\n",
    "        or_trx_ct[or_trx_ct['Product_Basename']==i].plot(column='total',legend = True)\n",
    "        plt.title('OR {0} Prescription Rate per County'.format(i))\n",
    "        plt.axis('off')\n",
    "        plt.rcParams[\"figure.figsize\"] = [8.0,6.0]\n",
    "#plt.savefig(\"test.png\", bbox_inches='tight')\n",
    "#plt.savefig(r'E:\\Bootcamp_Summer_Project\\NC Rate.png',dpi=100)\n",
    "plt.show()"
   ]
  },
  {
   "cell_type": "code",
   "execution_count": null,
   "metadata": {},
   "outputs": [],
   "source": [
    "or_trx_ct"
   ]
  }
 ],
 "metadata": {
  "kernelspec": {
   "display_name": "Python 3",
   "language": "python",
   "name": "python3"
  },
  "language_info": {
   "codemirror_mode": {
    "name": "ipython",
    "version": 3
   },
   "file_extension": ".py",
   "mimetype": "text/x-python",
   "name": "python",
   "nbconvert_exporter": "python",
   "pygments_lexer": "ipython3",
   "version": "3.6.6"
  }
 },
 "nbformat": 4,
 "nbformat_minor": 2
}
